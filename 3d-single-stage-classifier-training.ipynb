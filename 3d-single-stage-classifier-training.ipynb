{
 "cells": [
  {
   "cell_type": "markdown",
   "id": "8f5d6373",
   "metadata": {
    "papermill": {
     "duration": 0.009434,
     "end_time": "2024-09-16T08:10:52.349696",
     "exception": false,
     "start_time": "2024-09-16T08:10:52.340262",
     "status": "completed"
    },
    "tags": []
   },
   "source": [
    "This is the training companion notebook to the inference notebook I have published here:\n"
   ]
  },
  {
   "cell_type": "markdown",
   "id": "e51eaa84",
   "metadata": {
    "papermill": {
     "duration": 0.008497,
     "end_time": "2024-09-16T08:10:52.367012",
     "exception": false,
     "start_time": "2024-09-16T08:10:52.358515",
     "status": "completed"
    },
    "tags": []
   },
   "source": [
    "## Dependencies"
   ]
  },
  {
   "cell_type": "code",
   "execution_count": 1,
   "id": "77778fc1",
   "metadata": {
    "_cell_guid": "b1076dfc-b9ad-4769-8c92-a6c4dae69d19",
    "_uuid": "8f2839f25d086af736a60e9eeb907d3b93b6e0e5",
    "execution": {
     "iopub.execute_input": "2024-09-16T08:10:52.387321Z",
     "iopub.status.busy": "2024-09-16T08:10:52.386555Z",
     "iopub.status.idle": "2024-09-16T08:13:15.294877Z",
     "shell.execute_reply": "2024-09-16T08:13:15.293695Z"
    },
    "papermill": {
     "duration": 142.929474,
     "end_time": "2024-09-16T08:13:15.306168",
     "exception": false,
     "start_time": "2024-09-16T08:10:52.376694",
     "status": "completed"
    },
    "tags": []
   },
   "outputs": [],
   "source": [
    "# %pip install --quiet /kaggle/input/timm_3d_deps/other/initial/10/pydicom/pydicom/pydicom-2.4.4-py3-none-any.whl\n",
    "# %pip install timm_3d --no-index --quiet --find-links=/kaggle/input/timm_3d_deps/other/initial/10/timm_3d/\n",
    "# %pip install torchio --no-index --quiet --find-links=/kaggle/input/timm_3d_deps/other/initial/10/torchio/\n",
    "# %pip install itk --no-index --quiet --find-links=/kaggle/input/timm_3d_deps/other/initial/10/itk/itk\n",
    "# %pip install skorch --no-index --quiet --find-links=/kaggle/input/timm_3d_deps/other/initial/10/skorch/skorch\n",
    "# %pip install spacecutter --no-index --quiet --find-links=/kaggle/input/timm_3d_deps/other/initial/10/spacecutter/\n",
    "# %pip install open3d --no-index --quiet --find-links=/kaggle/input/timm_3d_deps/other/initial/10/open3d\n",
    "# %pip install pgzip --no-index --quiet --find-links=/kaggle/input/timm_3d_deps/other/initial/10/pgzip"
   ]
  },
  {
   "cell_type": "markdown",
   "id": "274c855f",
   "metadata": {
    "papermill": {
     "duration": 0.00902,
     "end_time": "2024-09-16T08:13:15.324834",
     "exception": false,
     "start_time": "2024-09-16T08:13:15.315814",
     "status": "completed"
    },
    "tags": []
   },
   "source": [
    "## Config"
   ]
  },
  {
   "cell_type": "code",
   "execution_count": 2,
   "id": "90b6a60d",
   "metadata": {
    "execution": {
     "iopub.execute_input": "2024-09-16T08:13:15.345016Z",
     "iopub.status.busy": "2024-09-16T08:13:15.344664Z",
     "iopub.status.idle": "2024-09-16T08:13:15.349421Z",
     "shell.execute_reply": "2024-09-16T08:13:15.348616Z"
    },
    "papermill": {
     "duration": 0.017359,
     "end_time": "2024-09-16T08:13:15.351416",
     "exception": false,
     "start_time": "2024-09-16T08:13:15.334057",
     "status": "completed"
    },
    "tags": []
   },
   "outputs": [],
   "source": [
    "data_path = \"/home/ai/neo/data/rsna-2024-lumbar-spine-degenerative-classification/\""
   ]
  },
  {
   "cell_type": "code",
   "execution_count": 3,
   "id": "5d614835",
   "metadata": {
    "execution": {
     "iopub.execute_input": "2024-09-16T08:13:15.371020Z",
     "iopub.status.busy": "2024-09-16T08:13:15.370729Z",
     "iopub.status.idle": "2024-09-16T08:13:18.644137Z",
     "shell.execute_reply": "2024-09-16T08:13:18.643316Z"
    },
    "papermill": {
     "duration": 3.285814,
     "end_time": "2024-09-16T08:13:18.646522",
     "exception": false,
     "start_time": "2024-09-16T08:13:15.360708",
     "status": "completed"
    },
    "tags": []
   },
   "outputs": [],
   "source": [
    "import torch\n",
    "\n",
    "CONFIG = dict(\n",
    "    n_levels=5,\n",
    "    num_classes=25,\n",
    "    num_conditions=5,\n",
    "    image_interpolation=\"nearest\",\n",
    "    backbone=\"maxvit_rmlp_tiny_rw_256\",\n",
    "    # backbone=\"efficientnet_b0\",\n",
    "    vol_size=(256, 256, 256),\n",
    "    # vol_size=(64, 64, 64),\n",
    "    num_workers=8,\n",
    "    gradient_acc_steps=1,\n",
    "    drop_rate=0.4,\n",
    "    drop_rate_last=0.,\n",
    "    drop_path_rate=0.4,\n",
    "    aug_prob=0.9,\n",
    "    out_dim=3,\n",
    "    epochs=100,\n",
    "    # epochs=5,\n",
    "    batch_size=16,\n",
    "    split_k=5,\n",
    "    device=torch.device(\"cuda\") if torch.cuda.is_available() else \"cpu\",\n",
    "    seed=42\n",
    ")"
   ]
  },
  {
   "cell_type": "code",
   "execution_count": 4,
   "id": "c713bae9",
   "metadata": {
    "execution": {
     "iopub.execute_input": "2024-09-16T08:13:18.666912Z",
     "iopub.status.busy": "2024-09-16T08:13:18.666507Z",
     "iopub.status.idle": "2024-09-16T08:13:18.671354Z",
     "shell.execute_reply": "2024-09-16T08:13:18.670522Z"
    },
    "papermill": {
     "duration": 0.016869,
     "end_time": "2024-09-16T08:13:18.673122",
     "exception": false,
     "start_time": "2024-09-16T08:13:18.656253",
     "status": "completed"
    },
    "tags": []
   },
   "outputs": [],
   "source": [
    "CONDITIONS = {\n",
    "    \"Sagittal T2/STIR\": [\"Spinal Canal Stenosis\"],\n",
    "    \"Axial T2\": [\"Left Subarticular Stenosis\", \"Right Subarticular Stenosis\"],\n",
    "    \"Sagittal T1\": [\"Left Neural Foraminal Narrowing\", \"Right Neural Foraminal Narrowing\"],\n",
    "}\n",
    "LABEL_MAP = {'normal_mild': 0, 'moderate': 1, 'severe': 2}"
   ]
  },
  {
   "cell_type": "markdown",
   "id": "46ea88cf",
   "metadata": {
    "papermill": {
     "duration": 0.010539,
     "end_time": "2024-09-16T08:13:18.692807",
     "exception": false,
     "start_time": "2024-09-16T08:13:18.682268",
     "status": "completed"
    },
    "tags": []
   },
   "source": [
    "# Data Loading"
   ]
  },
  {
   "cell_type": "markdown",
   "id": "5201b1fb",
   "metadata": {
    "papermill": {
     "duration": 0.00894,
     "end_time": "2024-09-16T08:13:18.711285",
     "exception": false,
     "start_time": "2024-09-16T08:13:18.702345",
     "status": "completed"
    },
    "tags": []
   },
   "source": [
    "## Training Metadata"
   ]
  },
  {
   "cell_type": "code",
   "execution_count": 5,
   "id": "5f2dfe98",
   "metadata": {
    "execution": {
     "iopub.execute_input": "2024-09-16T08:13:18.731198Z",
     "iopub.status.busy": "2024-09-16T08:13:18.730890Z",
     "iopub.status.idle": "2024-09-16T08:13:18.744875Z",
     "shell.execute_reply": "2024-09-16T08:13:18.744028Z"
    },
    "papermill": {
     "duration": 0.026281,
     "end_time": "2024-09-16T08:13:18.746759",
     "exception": false,
     "start_time": "2024-09-16T08:13:18.720478",
     "status": "completed"
    },
    "tags": []
   },
   "outputs": [],
   "source": [
    "def retrieve_coordinate_training_data(train_path):\n",
    "    def reshape_row(row):\n",
    "        data = {'study_id': [], 'condition': [], 'level': [], 'severity': []}\n",
    "\n",
    "        for column, value in row.items():\n",
    "            if column not in ['study_id', 'series_id', 'instance_number', 'x', 'y', 'series_description']:\n",
    "                parts = column.split('_')\n",
    "                condition = ' '.join([word.capitalize() for word in parts[:-2]])\n",
    "                level = parts[-2].capitalize() + '/' + parts[-1].capitalize()\n",
    "                data['study_id'].append(row['study_id'])\n",
    "                data['condition'].append(condition)\n",
    "                data['level'].append(level)\n",
    "                data['severity'].append(value)\n",
    "\n",
    "        return pd.DataFrame(data)\n",
    "\n",
    "    train = pd.read_csv(train_path + 'train.csv')\n",
    "    label = pd.read_csv(train_path + 'train_label_coordinates.csv')\n",
    "    train_desc = pd.read_csv(train_path + 'train_series_descriptions.csv')\n",
    "    test_desc = pd.read_csv(train_path + 'test_series_descriptions.csv')\n",
    "    sub = pd.read_csv(train_path + 'sample_submission.csv')\n",
    "\n",
    "    new_train_df = pd.concat([reshape_row(row) for _, row in train.iterrows()], ignore_index=True)\n",
    "    merged_df = pd.merge(new_train_df, label, on=['study_id', 'condition', 'level'], how='inner')\n",
    "    final_merged_df = pd.merge(merged_df, train_desc, on=['series_id', 'study_id'], how='inner')\n",
    "    final_merged_df['severity'] = final_merged_df['severity'].map(\n",
    "        {'Normal/Mild': 'normal_mild', 'Moderate': 'moderate', 'Severe': 'severe'})\n",
    "\n",
    "    final_merged_df['row_id'] = (\n",
    "            final_merged_df['study_id'].astype(str) + '_' +\n",
    "            final_merged_df['condition'].str.lower().str.replace(' ', '_') + '_' +\n",
    "            final_merged_df['level'].str.lower().str.replace('/', '_')\n",
    "    )\n",
    "\n",
    "    # Create the image_path column\n",
    "    final_merged_df['image_path'] = (\n",
    "            f'{train_path}/train_images/' +\n",
    "            final_merged_df['study_id'].astype(str) + '/' +\n",
    "            final_merged_df['series_id'].astype(str) + '/' +\n",
    "            final_merged_df['instance_number'].astype(str) + '.dcm'\n",
    "    )\n",
    "\n",
    "    return final_merged_df"
   ]
  },
  {
   "cell_type": "code",
   "execution_count": 6,
   "id": "79aefdb4",
   "metadata": {
    "execution": {
     "iopub.execute_input": "2024-09-16T08:13:18.766441Z",
     "iopub.status.busy": "2024-09-16T08:13:18.766160Z",
     "iopub.status.idle": "2024-09-16T08:13:21.375033Z",
     "shell.execute_reply": "2024-09-16T08:13:21.373994Z"
    },
    "papermill": {
     "duration": 2.621575,
     "end_time": "2024-09-16T08:13:21.377600",
     "exception": false,
     "start_time": "2024-09-16T08:13:18.756025",
     "status": "completed"
    },
    "tags": []
   },
   "outputs": [],
   "source": [
    "import pandas as pd\n",
    "\n",
    "train_data = retrieve_coordinate_training_data(data_path)"
   ]
  },
  {
   "cell_type": "markdown",
   "id": "b1e891f7",
   "metadata": {
    "papermill": {
     "duration": 0.009161,
     "end_time": "2024-09-16T08:13:21.396523",
     "exception": false,
     "start_time": "2024-09-16T08:13:21.387362",
     "status": "completed"
    },
    "tags": []
   },
   "source": [
    "## Dataset Definitions\n",
    "\n",
    "Note the mirror trick -- by flipping across the X axis, we get any right labels as left also and vice versa"
   ]
  },
  {
   "cell_type": "code",
   "execution_count": 7,
   "id": "086cbde0",
   "metadata": {
    "execution": {
     "iopub.execute_input": "2024-09-16T08:13:21.417115Z",
     "iopub.status.busy": "2024-09-16T08:13:21.416444Z",
     "iopub.status.idle": "2024-09-16T08:13:21.437204Z",
     "shell.execute_reply": "2024-09-16T08:13:21.436276Z"
    },
    "papermill": {
     "duration": 0.033413,
     "end_time": "2024-09-16T08:13:21.439299",
     "exception": false,
     "start_time": "2024-09-16T08:13:21.405886",
     "status": "completed"
    },
    "tags": []
   },
   "outputs": [],
   "source": [
    "from torch.utils.data import Dataset, DataLoader\n",
    "\n",
    "\n",
    "class StudyLevelDataset(Dataset):\n",
    "    def __init__(self,\n",
    "                 base_path: str,\n",
    "                 dataframe: pd.DataFrame,\n",
    "                 transform_3d=None,\n",
    "                 is_train=False,\n",
    "                 vol_size=(192, 192, 192),\n",
    "                 use_mirror_trick=False):\n",
    "        self.base_path = base_path\n",
    "        self.is_train = is_train\n",
    "        self.use_mirror_trick = use_mirror_trick\n",
    "\n",
    "        self.dataframe = (dataframe[['study_id', \"series_id\", \"series_description\", \"condition\", \"severity\", \"level\"]]\n",
    "                          .drop_duplicates())\n",
    "\n",
    "        self.subjects = self.dataframe[['study_id']].drop_duplicates().reset_index(drop=True)\n",
    "        self.series = self.dataframe[[\"study_id\", \"series_id\"]].drop_duplicates().groupby(\"study_id\")[\n",
    "            \"series_id\"].apply(list).to_dict()\n",
    "        self.series_descs = {e[0]: e[1] for e in\n",
    "                             self.dataframe[[\"series_id\", \"series_description\"]].drop_duplicates().values}\n",
    "\n",
    "        self.transform_3d = transform_3d\n",
    "\n",
    "        self.levels = sorted(self.dataframe[\"level\"].unique())\n",
    "        self.labels = self._get_labels()\n",
    "        self.vol_size = vol_size\n",
    "\n",
    "    def __len__(self):\n",
    "        return len(self.subjects) * (2 if self.use_mirror_trick else 1)\n",
    "\n",
    "    def __getitem__(self, index):\n",
    "        is_mirror = index >= len(self.subjects)\n",
    "        curr = self.subjects.iloc[index % len(self.subjects)]\n",
    "\n",
    "        label = np.array(self.labels[(curr[\"study_id\"])])\n",
    "        study_path = os.path.join(self.base_path, str(curr[\"study_id\"]))\n",
    "\n",
    "        study_images = read_study_as_voxel_grid_v2(study_path,\n",
    "                                                   curr[\"study_id\"],\n",
    "                                                   series_type_dict=self.series_descs,\n",
    "                                                   img_size=(self.vol_size[0], self.vol_size[1]))\n",
    "\n",
    "        if is_mirror:\n",
    "            temp = label[:10].copy()\n",
    "            label[:10] = label[10:20].copy()\n",
    "            label[10:20] = temp\n",
    "\n",
    "        if self.transform_3d is not None:\n",
    "            study_images = torch.FloatTensor(study_images)\n",
    "\n",
    "            if is_mirror:\n",
    "                study_images = torch.flip(study_images, [1])\n",
    "\n",
    "            study_images = self.transform_3d(study_images)  # .data\n",
    "            return study_images.to(torch.half), torch.tensor(label, dtype=torch.long)\n",
    "\n",
    "        print(\"loaded\")\n",
    "        return torch.HalfTensor(study_images.copy()), torch.tensor(label, dtype=torch.long)\n",
    "\n",
    "    def _get_labels(self):\n",
    "        labels = dict()\n",
    "        for name, group in self.dataframe.groupby([\"study_id\"]):\n",
    "            group = group[[\"condition\", \"level\", \"severity\"]].drop_duplicates().sort_values([\"condition\", \"level\"])\n",
    "            label_indices = []\n",
    "            for index, row in group.iterrows():\n",
    "                if row[\"severity\"] in LABEL_MAP:\n",
    "                    label_indices.append(LABEL_MAP[row[\"severity\"]])\n",
    "                else:\n",
    "                    raise ValueError()\n",
    "\n",
    "            study_id = name[0]\n",
    "\n",
    "            labels[study_id] = label_indices\n",
    "\n",
    "        return labels"
   ]
  },
  {
   "cell_type": "markdown",
   "id": "c1e774f1",
   "metadata": {
    "papermill": {
     "duration": 0.008967,
     "end_time": "2024-09-16T08:13:21.457836",
     "exception": false,
     "start_time": "2024-09-16T08:13:21.448869",
     "status": "completed"
    },
    "tags": []
   },
   "source": [
    "## 3D Data Loading\n",
    "\n",
    "Explained in a little more detail on my inference notebook. Note the caching part -- this makes a huge difference in the training time since the transforms are a massive bottleneck otherwise"
   ]
  },
  {
   "cell_type": "code",
   "execution_count": 8,
   "id": "74b9f4ca",
   "metadata": {
    "execution": {
     "iopub.execute_input": "2024-09-16T08:13:21.477862Z",
     "iopub.status.busy": "2024-09-16T08:13:21.477522Z",
     "iopub.status.idle": "2024-09-16T08:13:21.506669Z",
     "shell.execute_reply": "2024-09-16T08:13:21.505939Z"
    },
    "papermill": {
     "duration": 0.041734,
     "end_time": "2024-09-16T08:13:21.508724",
     "exception": false,
     "start_time": "2024-09-16T08:13:21.466990",
     "status": "completed"
    },
    "tags": []
   },
   "outputs": [],
   "source": [
    "def read_study_as_voxel_grid_v2(dir_path,\n",
    "                                study_id,\n",
    "                                series_type_dict=None, \n",
    "                                downsampling_factor=1, \n",
    "                                img_size=(256, 256), \n",
    "                                caching=True,\n",
    "                                cache_base_path=\"/home/ai/neo/data/cache\"):\n",
    "    if caching:\n",
    "        os.makedirs(os.path.join(cache_base_path, str(study_id)), exist_ok=True)\n",
    "        cache_path = os.path.join(cache_base_path, str(study_id), f\"cached_grid_v2_{img_size[0]}.npy.gz\")\n",
    "        f = None\n",
    "        if os.path.exists(cache_path):\n",
    "            try:\n",
    "                f = pgzip.PgzipFile(cache_path, \"r\")\n",
    "                ret = np.load(f, allow_pickle=True)\n",
    "                f.close()\n",
    "                return ret\n",
    "            except Exception as e:\n",
    "                print(dir_path, \"\\n\", e)\n",
    "                if f:\n",
    "                    f.close()\n",
    "                os.remove(cache_path)\n",
    "\n",
    "    pcd_overall = read_study_as_pcd(dir_path,\n",
    "                                    series_types_dict=series_type_dict,\n",
    "                                    downsampling_factor=downsampling_factor,\n",
    "                                    img_size=img_size)\n",
    "    box = pcd_overall.get_axis_aligned_bounding_box()\n",
    "\n",
    "    max_b = np.array(box.get_max_bound())\n",
    "    min_b = np.array(box.get_min_bound())\n",
    "\n",
    "    pts = (np.array(pcd_overall.points) - (min_b)) * (\n",
    "            (img_size[0] - 1, img_size[0] - 1, img_size[0] - 1) / (max_b - min_b))\n",
    "    coords = np.round(pts).astype(np.int32)\n",
    "    vals = np.array(pcd_overall.colors, dtype=np.float16)\n",
    "\n",
    "    grid = np.zeros((3, img_size[0], img_size[0], img_size[0]), dtype=np.float16)\n",
    "    indices = coords[:, 0], coords[:, 1], coords[:, 2]\n",
    "\n",
    "    np.maximum.at(grid[0], indices, vals[:, 0])\n",
    "    np.maximum.at(grid[1], indices, vals[:, 1])\n",
    "    np.maximum.at(grid[2], indices, vals[:, 2])\n",
    "    \n",
    "    if caching:\n",
    "        f = pgzip.PgzipFile(cache_path, \"w\")\n",
    "        np.save(f, grid)\n",
    "        f.close()\n",
    "\n",
    "    return grid\n",
    "\n",
    "\n",
    "def read_study_as_pcd(dir_path,\n",
    "                      series_types_dict=None,\n",
    "                      downsampling_factor=1,\n",
    "                      resize_slices=True,\n",
    "                      resize_method=\"nearest\",\n",
    "                      stack_slices_thickness=True,\n",
    "                      img_size=(256, 256)):\n",
    "    pcd_overall = o3d.geometry.PointCloud()\n",
    "\n",
    "    for path in glob.glob(os.path.join(dir_path, \"**/*.dcm\"), recursive=True):\n",
    "        dicom_slice = dcmread(path)\n",
    "\n",
    "        series_id = os.path.basename(os.path.dirname(path))\n",
    "        study_id = os.path.basename(os.path.dirname(os.path.dirname(path)))\n",
    "        if series_types_dict is None or int(series_id) not in series_types_dict:\n",
    "            series_desc = dicom_slice.SeriesDescription\n",
    "        else:\n",
    "            series_desc = series_types_dict[int(series_id)]\n",
    "            series_desc = series_desc.split(\" \")[-1]\n",
    "\n",
    "        x_orig, y_orig = dicom_slice.pixel_array.shape\n",
    "        if resize_slices:\n",
    "            if resize_method == \"nearest\":\n",
    "                img = np.expand_dims(cv2.resize(dicom_slice.pixel_array, img_size, interpolation=cv2.INTER_AREA), -1)\n",
    "            elif resize_method == \"maxpool\":\n",
    "                img_tensor = torch.tensor(dicom_slice.pixel_array).float()\n",
    "                img = F.adaptive_max_pool2d(img_tensor.unsqueeze(0), img_size).numpy()\n",
    "            else:\n",
    "                raise ValueError(f\"Invalid resize_method {resize_method}\")\n",
    "        else:\n",
    "            img = np.expand_dims(np.array(dicom_slice.pixel_array), -1)\n",
    "        x, y, z = np.where(img)\n",
    "\n",
    "        downsampling_factor_iter = max(downsampling_factor, int(math.ceil(len(x) / 6e6)))\n",
    "\n",
    "        index_voxel = np.vstack((x, y, z))[:, ::downsampling_factor_iter]\n",
    "        grid_index_array = index_voxel.T\n",
    "        pcd = o3d.geometry.PointCloud(o3d.utility.Vector3dVector(grid_index_array.astype(np.float64)))\n",
    "\n",
    "        vals = np.expand_dims(img[x, y, z][::downsampling_factor_iter], -1)\n",
    "        if series_desc == \"T1\":\n",
    "            vals = np.pad(vals, ((0, 0), (0, 2)))\n",
    "        elif series_desc == \"T2\":\n",
    "            vals = np.pad(vals, ((0, 0), (1, 1)))\n",
    "        elif series_desc == \"T2/STIR\":\n",
    "            vals = np.pad(vals, ((0, 0), (2, 0)))\n",
    "        else:\n",
    "            raise ValueError(f\"Unknown series desc: {series_desc}\")\n",
    "\n",
    "        pcd.colors = o3d.utility.Vector3dVector(vals.astype(np.float64))\n",
    "\n",
    "        if resize_slices:\n",
    "            transform_matrix_factor = np.matrix(\n",
    "                [[0, y_orig / img_size[1], 0, 0],\n",
    "                 [x_orig / img_size[0], 0, 0, 0],\n",
    "                 [0, 0, 1, 0],\n",
    "                 [0, 0, 0, 1]]\n",
    "            )\n",
    "        else:\n",
    "            transform_matrix_factor = np.matrix(\n",
    "                [[0, 1, 0, 0],\n",
    "                 [1, 0, 0, 0],\n",
    "                 [0, 0, 1, 0],\n",
    "                 [0, 0, 0, 1]]\n",
    "            )\n",
    "\n",
    "        dX, dY = dicom_slice.PixelSpacing\n",
    "        dZ = dicom_slice.SliceThickness\n",
    "\n",
    "        X = np.array(list(dicom_slice.ImageOrientationPatient[:3]) + [0]) * dX\n",
    "        Y = np.array(list(dicom_slice.ImageOrientationPatient[3:]) + [0]) * dY\n",
    "\n",
    "        S = np.array(list(dicom_slice.ImagePositionPatient) + [1])\n",
    "\n",
    "        transform_matrix = np.array([X, Y, np.zeros(len(X)), S]).T\n",
    "        transform_matrix = transform_matrix @ transform_matrix_factor\n",
    "\n",
    "        if stack_slices_thickness:\n",
    "            for z in range(int(dZ)):\n",
    "                pos = list(dicom_slice.ImagePositionPatient)\n",
    "                if series_desc == \"T2\":\n",
    "                    pos[-1] += z\n",
    "                else:\n",
    "                    pos[0] += z\n",
    "                S = np.array(pos + [1])\n",
    "\n",
    "                transform_matrix = np.array([X, Y, np.zeros(len(X)), S]).T\n",
    "                transform_matrix = transform_matrix @ transform_matrix_factor\n",
    "\n",
    "                pcd_overall += copy.deepcopy(pcd).transform(transform_matrix)\n",
    "\n",
    "        else:\n",
    "            pcd_overall += copy.deepcopy(pcd).transform(transform_matrix)\n",
    "\n",
    "    return pcd_overall"
   ]
  },
  {
   "cell_type": "markdown",
   "id": "cc5b99a5",
   "metadata": {
    "papermill": {
     "duration": 0.009166,
     "end_time": "2024-09-16T08:13:21.527065",
     "exception": false,
     "start_time": "2024-09-16T08:13:21.517899",
     "status": "completed"
    },
    "tags": []
   },
   "source": [
    "## Dataset Utility\n",
    "\n",
    "See the cleaning here -- I am simply dropping the data points where any of the 25 labels are missing"
   ]
  },
  {
   "cell_type": "code",
   "execution_count": 9,
   "id": "33d6cead",
   "metadata": {
    "execution": {
     "iopub.execute_input": "2024-09-16T08:13:21.546891Z",
     "iopub.status.busy": "2024-09-16T08:13:21.546609Z",
     "iopub.status.idle": "2024-09-16T08:13:21.559022Z",
     "shell.execute_reply": "2024-09-16T08:13:21.558055Z"
    },
    "papermill": {
     "duration": 0.02473,
     "end_time": "2024-09-16T08:13:21.560902",
     "exception": false,
     "start_time": "2024-09-16T08:13:21.536172",
     "status": "completed"
    },
    "tags": []
   },
   "outputs": [],
   "source": [
    "def create_study_level_datasets_and_loaders_k_fold(df: pd.DataFrame,\n",
    "                                                   base_path: str,\n",
    "                                                   transform_3d_train=None,\n",
    "                                                   transform_3d_val=None,\n",
    "                                                   vol_size=None,\n",
    "                                                   split_k=5,\n",
    "                                                   random_seed=42,\n",
    "                                                   batch_size=1,\n",
    "                                                   num_workers=0,\n",
    "                                                   pin_memory=True,\n",
    "                                                   use_mirroring_trick=True):\n",
    "    df = df.dropna()\n",
    "    # This drops any subjects with nans\n",
    "\n",
    "    filtered_df = pd.DataFrame(columns=df.columns)\n",
    "    for series_desc in CONDITIONS.keys():\n",
    "        subset = df[df['series_description'] == series_desc]\n",
    "        if series_desc == \"Sagittal T2/STIR\":\n",
    "            subset = subset[subset.groupby([\"study_id\"]).transform('size') == 5]\n",
    "        else:\n",
    "            subset = subset[subset.groupby([\"study_id\"]).transform('size') == 10]\n",
    "        filtered_df = pd.concat([filtered_df, subset])\n",
    "\n",
    "    filtered_df = filtered_df[filtered_df.groupby([\"study_id\"]).transform('size') == 25]\n",
    "\n",
    "    np.random.seed(random_seed)\n",
    "    ids = filtered_df[\"study_id\"].unique()\n",
    "    np.random.shuffle(ids)\n",
    "\n",
    "    ret = []\n",
    "    folds = np.array_split(ids, split_k)\n",
    "\n",
    "    for index, fold in enumerate(folds):\n",
    "        val_studies = fold\n",
    "\n",
    "        train_df = filtered_df[~filtered_df[\"study_id\"].isin(val_studies)]\n",
    "        val_df = filtered_df[filtered_df[\"study_id\"].isin(val_studies)]\n",
    "\n",
    "        train_df = train_df.reset_index(drop=True)\n",
    "        val_df = val_df.reset_index(drop=True)\n",
    "\n",
    "        train_dataset = StudyLevelDataset(base_path, train_df,\n",
    "                                          transform_3d=transform_3d_train,\n",
    "                                          is_train=True,\n",
    "                                          use_mirror_trick=use_mirroring_trick,\n",
    "                                          vol_size=vol_size\n",
    "                                          )\n",
    "        val_dataset = StudyLevelDataset(base_path, val_df,\n",
    "                                        transform_3d=transform_3d_val,\n",
    "                                        vol_size=vol_size\n",
    "                                        )\n",
    "\n",
    "        train_loader = DataLoader(train_dataset,\n",
    "                                  batch_size=batch_size,\n",
    "                                  shuffle=True,\n",
    "                                  num_workers=num_workers,\n",
    "                                  pin_memory=pin_memory,\n",
    "                                  persistent_workers=num_workers > 0)\n",
    "        val_loader = DataLoader(val_dataset,\n",
    "                                batch_size=batch_size,\n",
    "                                shuffle=False,\n",
    "                                num_workers=num_workers,\n",
    "                                pin_memory=pin_memory,\n",
    "                                persistent_workers=num_workers > 0)\n",
    "\n",
    "        ret.append((train_loader, val_loader, train_dataset, val_dataset))\n",
    "\n",
    "    return ret"
   ]
  },
  {
   "cell_type": "markdown",
   "id": "cdb6d5c7",
   "metadata": {
    "papermill": {
     "duration": 0.008959,
     "end_time": "2024-09-16T08:13:21.579075",
     "exception": false,
     "start_time": "2024-09-16T08:13:21.570116",
     "status": "completed"
    },
    "tags": []
   },
   "source": [
    "## Augmentations"
   ]
  },
  {
   "cell_type": "code",
   "execution_count": 10,
   "id": "ad4ebf18",
   "metadata": {
    "execution": {
     "iopub.execute_input": "2024-09-16T08:13:21.599013Z",
     "iopub.status.busy": "2024-09-16T08:13:21.598191Z",
     "iopub.status.idle": "2024-09-16T08:13:22.727717Z",
     "shell.execute_reply": "2024-09-16T08:13:22.726886Z"
    },
    "papermill": {
     "duration": 1.141931,
     "end_time": "2024-09-16T08:13:22.730065",
     "exception": false,
     "start_time": "2024-09-16T08:13:21.588134",
     "status": "completed"
    },
    "tags": []
   },
   "outputs": [],
   "source": [
    "import torchio as tio\n",
    "\n",
    "transform_3d_train = tio.Compose([\n",
    "    tio.ZNormalization(),\n",
    "    tio.RandomAffine(translation=10, p=CONFIG[\"aug_prob\"]),\n",
    "    tio.RandomNoise(p=CONFIG[\"aug_prob\"]),\n",
    "    tio.RandomSpike(1, intensity=(-0.5, 0.5), p=CONFIG[\"aug_prob\"]),\n",
    "    tio.RescaleIntensity((0, 1)),\n",
    "])\n",
    "\n",
    "transform_3d_val = tio.Compose([\n",
    "    tio.RescaleIntensity((0, 1)),\n",
    "])"
   ]
  },
  {
   "cell_type": "markdown",
   "id": "61ab7888",
   "metadata": {
    "papermill": {
     "duration": 0.008995,
     "end_time": "2024-09-16T08:13:22.748711",
     "exception": false,
     "start_time": "2024-09-16T08:13:22.739716",
     "status": "completed"
    },
    "tags": []
   },
   "source": [
    "## Load the dataset"
   ]
  },
  {
   "cell_type": "code",
   "execution_count": 11,
   "id": "a131d087",
   "metadata": {
    "execution": {
     "iopub.execute_input": "2024-09-16T08:13:22.768866Z",
     "iopub.status.busy": "2024-09-16T08:13:22.767996Z",
     "iopub.status.idle": "2024-09-16T08:13:54.776406Z",
     "shell.execute_reply": "2024-09-16T08:13:54.775586Z"
    },
    "papermill": {
     "duration": 32.020879,
     "end_time": "2024-09-16T08:13:54.778765",
     "exception": false,
     "start_time": "2024-09-16T08:13:22.757886",
     "status": "completed"
    },
    "tags": []
   },
   "outputs": [],
   "source": [
    "import os\n",
    "import numpy as np\n",
    "\n",
    "dataset_folds = create_study_level_datasets_and_loaders_k_fold(train_data,\n",
    "                                                               transform_3d_train=transform_3d_train,\n",
    "                                                               transform_3d_val=transform_3d_val,\n",
    "                                                               base_path=os.path.join(\n",
    "                                                                data_path,\n",
    "                                                                \"train_images\"),\n",
    "                                                               vol_size=CONFIG[\"vol_size\"],\n",
    "                                                               num_workers=CONFIG[\"num_workers\"],\n",
    "                                                               split_k=CONFIG[\"split_k\"],\n",
    "                                                               batch_size=CONFIG[\"batch_size\"],\n",
    "                                                               pin_memory=True,\n",
    "                                                               use_mirroring_trick=True\n",
    "                                                               )"
   ]
  },
  {
   "cell_type": "markdown",
   "id": "2ff9e4a7",
   "metadata": {
    "papermill": {
     "duration": 0.009335,
     "end_time": "2024-09-16T08:13:54.797855",
     "exception": false,
     "start_time": "2024-09-16T08:13:54.788520",
     "status": "completed"
    },
    "tags": []
   },
   "source": [
    "### Sanity Check"
   ]
  },
  {
   "cell_type": "code",
   "execution_count": 12,
   "id": "f3157fb3",
   "metadata": {
    "execution": {
     "iopub.execute_input": "2024-09-16T08:13:54.818077Z",
     "iopub.status.busy": "2024-09-16T08:13:54.817714Z",
     "iopub.status.idle": "2024-09-16T08:14:00.376151Z",
     "shell.execute_reply": "2024-09-16T08:14:00.375221Z"
    },
    "papermill": {
     "duration": 5.571128,
     "end_time": "2024-09-16T08:14:00.378323",
     "exception": false,
     "start_time": "2024-09-16T08:13:54.807195",
     "status": "completed"
    },
    "tags": []
   },
   "outputs": [
    {
     "name": "stdout",
     "output_type": "stream",
     "text": [
      "Jupyter environment detected. Enabling Open3D WebVisualizer.\n",
      "[Open3D INFO] WebRTC GUI backend enabled.\n",
      "[Open3D INFO] WebRTCWindowSystem: HTTP handshake server disabled.\n"
     ]
    },
    {
     "data": {
      "image/png": "[encoded data removed]",
      "text/plain": [
       "<Figure size 640x480 with 1 Axes>"
      ]
     },
     "metadata": {},
     "output_type": "display_data"
    }
   ],
   "source": [
    "import matplotlib.pyplot as plt\n",
    "import open3d as o3d\n",
    "import glob\n",
    "from pydicom import dcmread\n",
    "import cv2\n",
    "import math \n",
    "import copy\n",
    "import pgzip\n",
    "\n",
    "for index, fold in enumerate(dataset_folds):\n",
    "    trainloader, valloader, trainset, testset = fold\n",
    "\n",
    "    plt.imshow(np.mean(trainset[0][0].numpy()[0, 31:34], axis=0), cmap = \"gray\")\n",
    "    plt.show()\n",
    "    \n",
    "    break"
   ]
  },
  {
   "cell_type": "markdown",
   "id": "5741d73f",
   "metadata": {
    "papermill": {
     "duration": 0.009675,
     "end_time": "2024-09-16T08:14:00.398202",
     "exception": false,
     "start_time": "2024-09-16T08:14:00.388527",
     "status": "completed"
    },
    "tags": []
   },
   "source": [
    "## Prepopulate the cache\n",
    "Optionally, you can prepopulate the cache first before calling the training loop"
   ]
  },
  {
   "cell_type": "code",
   "execution_count": 13,
   "id": "74b4c7a2",
   "metadata": {
    "execution": {
     "iopub.execute_input": "2024-09-16T08:14:00.419802Z",
     "iopub.status.busy": "2024-09-16T08:14:00.419261Z",
     "iopub.status.idle": "2024-09-16T08:14:03.104106Z",
     "shell.execute_reply": "2024-09-16T08:14:03.102979Z"
    },
    "papermill": {
     "duration": 2.699191,
     "end_time": "2024-09-16T08:14:03.107086",
     "exception": false,
     "start_time": "2024-09-16T08:14:00.407895",
     "status": "completed"
    },
    "tags": []
   },
   "outputs": [
    {
     "name": "stderr",
     "output_type": "stream",
     "text": [
      "  0%|          | 0/2848 [00:04<?, ?it/s]\n"
     ]
    },
    {
     "name": "stdout",
     "output_type": "stream",
     "text": [
      "------------------\n"
     ]
    },
    {
     "name": "stderr",
     "output_type": "stream",
     "text": [
      "  0%|          | 0/357 [00:14<?, ?it/s]\n"
     ]
    }
   ],
   "source": [
    "from tqdm import tqdm\n",
    "\n",
    "for fold in dataset_folds:\n",
    "    trainloader, valloader, trainset, testset = fold\n",
    "    \n",
    "    for train_point in tqdm(trainset):\n",
    "        pass\n",
    "        break\n",
    "    print(\"------------------\")\n",
    "    for val_point in tqdm(testset):\n",
    "        pass\n",
    "        break\n",
    "    \n",
    "    break"
   ]
  },
  {
   "cell_type": "markdown",
   "id": "f1452b20",
   "metadata": {
    "papermill": {
     "duration": 0.010114,
     "end_time": "2024-09-16T08:14:03.128066",
     "exception": false,
     "start_time": "2024-09-16T08:14:03.117952",
     "status": "completed"
    },
    "tags": []
   },
   "source": [
    "# Model"
   ]
  },
  {
   "cell_type": "code",
   "execution_count": 14,
   "id": "6debc4fb",
   "metadata": {
    "execution": {
     "iopub.execute_input": "2024-09-16T08:14:03.150505Z",
     "iopub.status.busy": "2024-09-16T08:14:03.150174Z",
     "iopub.status.idle": "2024-09-16T08:14:06.713599Z",
     "shell.execute_reply": "2024-09-16T08:14:06.712781Z"
    },
    "papermill": {
     "duration": 3.577679,
     "end_time": "2024-09-16T08:14:06.716083",
     "exception": false,
     "start_time": "2024-09-16T08:14:03.138404",
     "status": "completed"
    },
    "tags": []
   },
   "outputs": [],
   "source": [
    "import timm_3d\n",
    "import torch.nn as nn\n",
    "from spacecutter.losses import CumulativeLinkLoss\n",
    "from spacecutter.models import LogisticCumulativeLink\n",
    "from spacecutter.callbacks import AscensionCallback\n",
    "\n",
    "\n",
    "class Classifier3dMultihead(nn.Module):\n",
    "    def __init__(self,\n",
    "                 backbone=\"efficientnet_lite0\",\n",
    "                 in_chans=1,\n",
    "                 out_classes=5,\n",
    "                 cutpoint_margin=0.15,\n",
    "                 pretrained=False):\n",
    "        super(Classifier3dMultihead, self).__init__()\n",
    "        self.out_classes = out_classes\n",
    "\n",
    "        self.backbone = timm_3d.create_model(\n",
    "            backbone,\n",
    "            features_only=False,\n",
    "            drop_rate=CONFIG[\"drop_rate\"],\n",
    "            drop_path_rate=CONFIG[\"drop_path_rate\"],\n",
    "            pretrained=pretrained,\n",
    "            in_chans=in_chans,\n",
    "            global_pool=\"max\",\n",
    "        )\n",
    "        if \"efficientnet\" in backbone:\n",
    "            head_in_dim = self.backbone.classifier.in_features\n",
    "            self.backbone.classifier = nn.Sequential(\n",
    "                nn.LayerNorm(head_in_dim),\n",
    "                nn.Dropout(CONFIG[\"drop_rate_last\"]),\n",
    "            )\n",
    "\n",
    "        elif \"vit\" in backbone:\n",
    "            self.backbone.head.drop = nn.Dropout(p=CONFIG[\"drop_rate_last\"])\n",
    "            head_in_dim = self.backbone.head.fc.in_features\n",
    "            self.backbone.head.fc = nn.Identity()\n",
    "\n",
    "        self.heads = nn.ModuleList(\n",
    "            [nn.Sequential(\n",
    "                nn.Linear(head_in_dim, 1),\n",
    "                LogisticCumulativeLink(CONFIG[\"out_dim\"])\n",
    "            ) for i in range(out_classes)]\n",
    "        )\n",
    "\n",
    "        self.ascension_callback = AscensionCallback(margin=cutpoint_margin)\n",
    "\n",
    "    def forward(self, x):\n",
    "        feat = self.backbone(x)\n",
    "        return torch.swapaxes(torch.stack([head(feat) for head in self.heads]), 0, 1)\n",
    "\n",
    "    def _ascension_callback(self):\n",
    "        for head in self.heads:\n",
    "            self.ascension_callback.clip(head[-1])"
   ]
  },
  {
   "cell_type": "markdown",
   "id": "ab9445f5",
   "metadata": {
    "papermill": {
     "duration": 0.010641,
     "end_time": "2024-09-16T08:14:06.738207",
     "exception": false,
     "start_time": "2024-09-16T08:14:06.727566",
     "status": "completed"
    },
    "tags": []
   },
   "source": [
    "# Training"
   ]
  },
  {
   "cell_type": "markdown",
   "id": "f25b9025",
   "metadata": {
    "papermill": {
     "duration": 0.010169,
     "end_time": "2024-09-16T08:14:06.758458",
     "exception": false,
     "start_time": "2024-09-16T08:14:06.748289",
     "status": "completed"
    },
    "tags": []
   },
   "source": [
    "## Training util functions"
   ]
  },
  {
   "cell_type": "code",
   "execution_count": 15,
   "id": "889456c2",
   "metadata": {
    "execution": {
     "iopub.execute_input": "2024-09-16T08:14:06.780762Z",
     "iopub.status.busy": "2024-09-16T08:14:06.780379Z",
     "iopub.status.idle": "2024-09-16T08:14:06.814863Z",
     "shell.execute_reply": "2024-09-16T08:14:06.813892Z"
    },
    "papermill": {
     "duration": 0.048341,
     "end_time": "2024-09-16T08:14:06.816962",
     "exception": false,
     "start_time": "2024-09-16T08:14:06.768621",
     "status": "completed"
    },
    "tags": []
   },
   "outputs": [],
   "source": [
    "import os.path\n",
    "\n",
    "from tqdm import tqdm\n",
    "from torch.cuda.amp import autocast, GradScaler\n",
    "import torch.nn as nn\n",
    "import matplotlib.pyplot as plt\n",
    "\n",
    "device = torch.device(\"cuda\" if torch.cuda.is_available() else \"cpu\")\n",
    "\n",
    "\n",
    "def model_validation_loss(model, val_loader, loss_fns, epoch):\n",
    "    val_loss = 0\n",
    "    unweighted_val_loss = 0\n",
    "    alt_val_loss = 0\n",
    "    unweighted_alt_val_loss = 0\n",
    "\n",
    "    with torch.no_grad():\n",
    "        model.eval()\n",
    "\n",
    "        for images, label in tqdm(val_loader, desc=f\"Validating epoch {epoch}\"):\n",
    "            label = label.to(device).unsqueeze(-1)\n",
    "\n",
    "            with autocast(enabled=device != \"cpu\", dtype=torch.bfloat16):\n",
    "                output = model(images.to(device))\n",
    "\n",
    "                for index, loss_fn in enumerate(loss_fns[\"train\"]):\n",
    "                    if len(loss_fns[\"train\"]) > 1:\n",
    "                        loss = loss_fn(output[:, index], label[:, index]) / len(loss_fns[\"train\"])\n",
    "                    else:\n",
    "                        loss = loss_fn(output, label) / len(loss_fns[\"train\"])\n",
    "                    val_loss += loss.cpu().item()\n",
    "\n",
    "                for index, loss_fn in enumerate(loss_fns[\"unweighted_val\"]):\n",
    "                    if len(loss_fns[\"unweighted_val\"]) > 1:\n",
    "                        loss = loss_fn(output[:, index], label[:, index]) / len(loss_fns[\"unweighted_val\"])\n",
    "                    else:\n",
    "                        loss = loss_fn(output, label) / len(loss_fns[\"unweighted_val\"])\n",
    "                    unweighted_val_loss += loss.cpu().item()\n",
    "\n",
    "                for index, loss_fn in enumerate(loss_fns[\"alt_val\"]):\n",
    "                    if len(loss_fns[\"alt_val\"]) > 1:\n",
    "                        # !TODO: Label squeezed for CE loss\n",
    "                        loss = loss_fn(output[:, index], label.squeeze(-1)[:, index]) / len(loss_fns[\"alt_val\"])\n",
    "                    else:\n",
    "                        loss = loss_fn(output, label) / len(loss_fns[\"alt_val\"])\n",
    "                    alt_val_loss += loss.cpu().item()\n",
    "\n",
    "                for index, loss_fn in enumerate(loss_fns[\"unweighted_alt_val\"]):\n",
    "                    if len(loss_fns[\"unweighted_alt_val\"]) > 1:\n",
    "                        # !TODO: Label squeezed for CE loss\n",
    "                        loss = loss_fn(output[:, index], label.squeeze(-1)[:, index]) / len(\n",
    "                            loss_fns[\"unweighted_alt_val\"])\n",
    "                    else:\n",
    "                        loss = loss_fn(output, label) / len(loss_fns[\"alt_val\"])\n",
    "                    unweighted_alt_val_loss += loss.cpu().item()\n",
    "\n",
    "                del output\n",
    "            # torch.cuda.empty_cache()\n",
    "\n",
    "        val_loss = val_loss / len(val_loader)\n",
    "        unweighted_val_loss = unweighted_val_loss / len(val_loader)\n",
    "        alt_val_loss = alt_val_loss / len(val_loader)\n",
    "        unweighted_alt_val_loss = unweighted_alt_val_loss / len(val_loader)\n",
    "\n",
    "        return val_loss, unweighted_val_loss, alt_val_loss, unweighted_alt_val_loss\n",
    "\n",
    "\n",
    "def dump_plots_for_loss_and_acc(losses,\n",
    "                                val_losses,\n",
    "                                unweighted_val_losses,\n",
    "                                alt_val_losses,\n",
    "                                unweighted_alt_val_losses,\n",
    "                                data_subset_label,\n",
    "                                model_label):\n",
    "    plt.plot(np.log(losses), label=\"train\")\n",
    "    plt.plot(np.log(val_losses), label=\"weighted_val\")\n",
    "    plt.plot(np.log(unweighted_val_losses), label=\"unweighted_val\")\n",
    "    plt.plot(np.log(alt_val_losses), label=\"alt_val\")\n",
    "    plt.plot(np.log(unweighted_alt_val_losses), label=\"unweighted_alt_val\")\n",
    "    plt.legend(loc=\"center right\")\n",
    "    plt.title(data_subset_label)\n",
    "#     plt.savefig(f'./figures/{model_label}_loss.png')\n",
    "#     plt.close()\n",
    "    plt.show()\n",
    "\n",
    "def train_model_with_validation(model,\n",
    "                                optimizers,\n",
    "                                schedulers,\n",
    "                                loss_fns,\n",
    "                                train_loader,\n",
    "                                val_loader,\n",
    "                                train_loader_desc=None,\n",
    "                                model_desc=\"my_model\",\n",
    "                                gradient_accumulation_per=1,\n",
    "                                epochs=10,\n",
    "                                freeze_backbone_initial_epochs=0,\n",
    "                                empty_cache_every_n_iterations=0,\n",
    "                                loss_weights=None,\n",
    "                                callbacks=None):\n",
    "    epoch_losses = []\n",
    "    epoch_validation_losses = []\n",
    "    epoch_unweighted_validation_losses = []\n",
    "    epoch_alt_validation_losses = []\n",
    "    epoch_unweighted_alt_validation_losses = []\n",
    "\n",
    "    scaler = GradScaler(init_scale=4096)\n",
    "\n",
    "    if freeze_backbone_initial_epochs > 0:\n",
    "        freeze_model_backbone(model)\n",
    "\n",
    "    for epoch in tqdm(range(epochs), desc=train_loader_desc):\n",
    "        epoch_loss = 0\n",
    "        model.train()\n",
    "\n",
    "        if freeze_backbone_initial_epochs > 0 and epoch == freeze_backbone_initial_epochs:\n",
    "            unfreeze_model_backbone(model)\n",
    "\n",
    "        for index, val in enumerate(tqdm(train_loader, desc=f\"Epoch {epoch}\")):\n",
    "            images, label = val\n",
    "            label = label.to(device).unsqueeze(-1)\n",
    "\n",
    "            with autocast(enabled=device != \"cpu\", dtype=torch.bfloat16):\n",
    "                output = model(images.to(device))\n",
    "\n",
    "                del images\n",
    "\n",
    "                if len(loss_fns[\"train\"]) > 1:\n",
    "                    loss = sum([(loss_fn(output[:, loss_index], label[:, loss_index]) / gradient_accumulation_per) for\n",
    "                                loss_index, loss_fn in enumerate(loss_fns[\"train\"])]) / len(loss_fns[\"train\"])\n",
    "                else:\n",
    "                    loss = loss_fns[\"train\"][0](output, label) / gradient_accumulation_per\n",
    "                epoch_loss += loss.detach().cpu().item() * gradient_accumulation_per  # / len(loss_fns[\"train\"])\n",
    "\n",
    "                del label\n",
    "\n",
    "            scaler.scale(loss).backward()\n",
    "            torch.nn.utils.clip_grad_norm_(model.parameters(), 1e9)\n",
    "\n",
    "            del output\n",
    "\n",
    "            # Per gradient accumulation batch or if the last iter\n",
    "            if index % gradient_accumulation_per == 0 or index == len(train_loader) - 1:\n",
    "                for optimizer in optimizers:\n",
    "                    scaler.step(optimizer)\n",
    "                    optimizer.zero_grad(set_to_none=True)\n",
    "                scaler.update()\n",
    "\n",
    "            if callbacks:\n",
    "                for callback in callbacks:\n",
    "                    callback()\n",
    "\n",
    "            # prof.step()\n",
    "            if empty_cache_every_n_iterations > 0 and index % empty_cache_every_n_iterations == 0:\n",
    "                torch.cuda.empty_cache()\n",
    "\n",
    "            while os.path.exists(\".pause\"):\n",
    "                pass\n",
    "\n",
    "        epoch_loss = epoch_loss / len(train_loader)\n",
    "        epoch_validation_loss, epoch_unweighted_validation_loss, epoch_alt_validation_loss, epoch_unweighted_alt_validation_loss = (\n",
    "            model_validation_loss(model, val_loader, loss_fns, epoch)\n",
    "        )\n",
    "\n",
    "        for scheduler in schedulers:\n",
    "            scheduler.step()\n",
    "\n",
    "        if (epoch % 5 == 0\n",
    "            or len(epoch_validation_losses) == 0\n",
    "            or epoch_validation_loss < min(epoch_validation_losses)) \\\n",
    "                or epoch_unweighted_validation_loss < min(epoch_unweighted_validation_losses) \\\n",
    "                or epoch_alt_validation_loss < min(epoch_alt_validation_losses):\n",
    "            os.makedirs(f'/home/ai/neo/data/model/{model_desc}', exist_ok=True)\n",
    "            torch.save(model.state_dict(),\n",
    "                       # torch.jit.script(model),\n",
    "                       f'/home/ai/neo/data/model/{model_desc}/{model_desc}' + \"_\" + str(epoch) + \".pt\")\n",
    "\n",
    "        epoch_validation_losses.append(epoch_validation_loss)\n",
    "        epoch_unweighted_validation_losses.append(epoch_unweighted_validation_loss)\n",
    "        epoch_alt_validation_losses.append(epoch_alt_validation_loss)\n",
    "        epoch_unweighted_alt_validation_losses.append(epoch_unweighted_alt_validation_loss)\n",
    "\n",
    "        epoch_losses.append(epoch_loss)\n",
    "\n",
    "        dump_plots_for_loss_and_acc(epoch_losses,\n",
    "                                    epoch_validation_losses,\n",
    "                                    epoch_unweighted_validation_losses,\n",
    "                                    epoch_alt_validation_losses,\n",
    "                                    epoch_unweighted_alt_validation_losses,\n",
    "                                    train_loader_desc, model_desc)\n",
    "        print(f\"Training Loss for epoch {epoch}: {epoch_loss:.6f}\")\n",
    "        print(f\"Validation Loss for epoch {epoch}: {epoch_validation_loss:.6f}\")\n",
    "        print(f\"Unweighted Validation Loss for epoch {epoch}: {epoch_unweighted_validation_loss:.6f}\")\n",
    "        print(f\"Alt Validation Loss for epoch {epoch}: {epoch_alt_validation_loss:.6f}\")\n",
    "        print(f\"Unweighted Alt Validation Loss for epoch {epoch}: {epoch_unweighted_alt_validation_loss:.6f}\")\n",
    "\n",
    "    return epoch_losses, epoch_validation_losses"
   ]
  },
  {
   "cell_type": "markdown",
   "id": "e1cdd1bd",
   "metadata": {
    "papermill": {
     "duration": 0.010819,
     "end_time": "2024-09-16T08:14:06.838303",
     "exception": false,
     "start_time": "2024-09-16T08:14:06.827484",
     "status": "completed"
    },
    "tags": []
   },
   "source": [
    "## Loss Functions"
   ]
  },
  {
   "cell_type": "code",
   "execution_count": 16,
   "id": "9b8d959f",
   "metadata": {
    "execution": {
     "iopub.execute_input": "2024-09-16T08:14:06.861132Z",
     "iopub.status.busy": "2024-09-16T08:14:06.860799Z",
     "iopub.status.idle": "2024-09-16T08:14:07.018516Z",
     "shell.execute_reply": "2024-09-16T08:14:07.017657Z"
    },
    "papermill": {
     "duration": 0.172013,
     "end_time": "2024-09-16T08:14:07.020950",
     "exception": false,
     "start_time": "2024-09-16T08:14:06.848937",
     "status": "completed"
    },
    "tags": []
   },
   "outputs": [],
   "source": [
    "schedulers = [\n",
    "]\n",
    "criteria = {\n",
    "    \"train\": [\n",
    "        CumulativeLinkLoss(class_weights=[1,2,4]) for i in range(CONFIG[\"num_classes\"])\n",
    "    ],\n",
    "    \"unweighted_val\": [\n",
    "        CumulativeLinkLoss() for i in range(CONFIG[\"num_classes\"])\n",
    "    ],\n",
    "    \"alt_val\": [\n",
    "        nn.CrossEntropyLoss(weight=torch.Tensor([1,2,4])).to(CONFIG[\"device\"]) for i in range(CONFIG[\"num_classes\"])\n",
    "    ],\n",
    "    \"unweighted_alt_val\": [\n",
    "        nn.CrossEntropyLoss().to(device) for i in range(CONFIG[\"num_classes\"])\n",
    "    ]\n",
    "}"
   ]
  },
  {
   "cell_type": "markdown",
   "id": "070d47d0",
   "metadata": {
    "papermill": {
     "duration": 0.010424,
     "end_time": "2024-09-16T08:14:07.042340",
     "exception": false,
     "start_time": "2024-09-16T08:14:07.031916",
     "status": "completed"
    },
    "tags": []
   },
   "source": [
    "## Putting it all together"
   ]
  },
  {
   "cell_type": "code",
   "execution_count": 17,
   "id": "a2ca9a12",
   "metadata": {
    "execution": {
     "iopub.execute_input": "2024-09-16T08:14:07.064634Z",
     "iopub.status.busy": "2024-09-16T08:14:07.064269Z",
     "iopub.status.idle": "2024-09-16T09:11:26.490746Z",
     "shell.execute_reply": "2024-09-16T09:11:26.489362Z"
    },
    "papermill": {
     "duration": 3439.441283,
     "end_time": "2024-09-16T09:11:26.493985",
     "exception": false,
     "start_time": "2024-09-16T08:14:07.052702",
     "status": "completed"
    },
    "tags": []
   },
   "outputs": [
    {
     "name": "stderr",
     "output_type": "stream",
     "text": [
      "/home/ai/anaconda3/envs/rsna/lib/python3.8/site-packages/torch/functional.py:513: UserWarning: torch.meshgrid: in an upcoming release, it will be required to pass the indexing argument. (Triggered internally at ../aten/src/ATen/native/TensorShape.cpp:3609.)\n",
      "  return _VF.meshgrid(tensors, **kwargs)  # type: ignore[attr-defined]\n",
      "/tmp/ipykernel_625178/2776218493.py:106: FutureWarning: `torch.cuda.amp.GradScaler(args...)` is deprecated. Please use `torch.amp.GradScaler('cuda', args...)` instead.\n",
      "  scaler = GradScaler(init_scale=4096)\n",
      "Training maxvit_rmlp_tiny_rw_256 fold 0:   0%|          | 0/100 [00:00<?, ?it/s]"
     ]
    }
   ],
   "source": [
    "# 获取可用GPU\n",
    "device_ids = [i for i in range(torch.cuda.device_count())]\n",
    "\n",
    "for index, fold in enumerate(dataset_folds):\n",
    "    # !TODO: Remove me, I am here to save some GPU time\n",
    "    if index > 0:\n",
    "        break\n",
    "    # model = Classifier3dMultihead(backbone=CONFIG[\"backbone\"], in_chans=3, out_classes=CONFIG[\"num_classes\"]).to(CONFIG[\"device\"])\n",
    "    model = Classifier3dMultihead(backbone=CONFIG[\"backbone\"], in_chans=3, out_classes=CONFIG[\"num_classes\"])\n",
    "    model = torch.nn.DataParallel(model, device_ids=device_ids)\n",
    "    model = model.to(device_ids[0])\n",
    "    optimizers = [\n",
    "        torch.optim.AdamW(model.parameters(), lr=3e-4),\n",
    "    ]\n",
    "\n",
    "    trainloader, valloader, trainset, testset = fold\n",
    "\n",
    "    train_model_with_validation(model,\n",
    "                                optimizers,\n",
    "                                schedulers,\n",
    "                                criteria,\n",
    "                                trainloader,\n",
    "                                valloader,\n",
    "                                model_desc=CONFIG[\"backbone\"] + f\"_fold_{index}\",\n",
    "                                train_loader_desc=f\"Training {CONFIG['backbone']} fold {index}\",\n",
    "                                epochs=CONFIG[\"epochs\"],\n",
    "                                freeze_backbone_initial_epochs=0,\n",
    "                                # callbacks=[model._ascension_callback],\n",
    "                                gradient_accumulation_per=CONFIG[\"gradient_acc_steps\"]\n",
    "                                )"
   ]
  },
  {
   "cell_type": "code",
   "execution_count": null,
   "id": "e116a40b",
   "metadata": {},
   "outputs": [],
   "source": []
  }
 ],
 "metadata": {
  "kaggle": {
   "accelerator": "gpu",
   "dataSources": [
    {
     "databundleVersionId": 8561470,
     "sourceId": 71549,
     "sourceType": "competition"
    },
    {
     "modelId": 89293,
     "modelInstanceId": 64905,
     "sourceId": 114536,
     "sourceType": "modelInstanceVersion"
    }
   ],
   "dockerImageVersionId": 30761,
   "isGpuEnabled": true,
   "isInternetEnabled": true,
   "language": "python",
   "sourceType": "notebook"
  },
  "kernelspec": {
   "display_name": "Python 3",
   "language": "python",
   "name": "python3"
  },
  "language_info": {
   "codemirror_mode": {
    "name": "ipython",
    "version": 3
   },
   "file_extension": ".py",
   "mimetype": "text/x-python",
   "name": "python",
   "nbconvert_exporter": "python",
   "pygments_lexer": "ipython3",
   "version": "3.8.19"
  },
  "papermill": {
   "default_parameters": {},
   "duration": 3639.973903,
   "end_time": "2024-09-16T09:11:29.498598",
   "environment_variables": {},
   "exception": null,
   "input_path": "__notebook__.ipynb",
   "output_path": "__notebook__.ipynb",
   "parameters": {},
   "start_time": "2024-09-16T08:10:49.524695",
   "version": "2.6.0"
  }
 },
 "nbformat": 4,
 "nbformat_minor": 5
}
